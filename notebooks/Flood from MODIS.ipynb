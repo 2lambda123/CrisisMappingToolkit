{
 "metadata": {
  "name": "",
  "signature": "sha256:a64a11c3522cf1d467922575aaf087c9d75173d31233d9f2dd0c66daf1576fea"
 },
 "nbformat": 3,
 "nbformat_minor": 0,
 "worksheets": [
  {
   "cells": [
    {
     "cell_type": "code",
     "collapsed": false,
     "input": [
      "from cmt import ee_authenticate\n",
      "ee_authenticate.initialize()"
     ],
     "language": "python",
     "metadata": {},
     "outputs": [],
     "prompt_number": 1
    },
    {
     "cell_type": "code",
     "collapsed": false,
     "input": [],
     "language": "python",
     "metadata": {},
     "outputs": []
    }
   ],
   "metadata": {}
  }
 ]
}